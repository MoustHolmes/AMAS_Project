{
  "nbformat": 4,
  "nbformat_minor": 0,
  "metadata": {
    "colab": {
      "name": "RFL_AMAS.ipynb",
      "provenance": [],
      "collapsed_sections": [],
      "toc_visible": true,
      "include_colab_link": true
    },
    "kernelspec": {
      "name": "python3",
      "display_name": "Python 3"
    }
  },
  "cells": [
    {
      "cell_type": "markdown",
      "metadata": {
        "id": "view-in-github",
        "colab_type": "text"
      },
      "source": [
        "<a href=\"https://colab.research.google.com/github/MoustHolmes/AMAS_Project/blob/Martin/AMAS_Gradient_policy.ipynb\" target=\"_parent\"><img src=\"https://colab.research.google.com/assets/colab-badge.svg\" alt=\"Open In Colab\"/></a>"
      ]
    },
    {
      "cell_type": "markdown",
      "metadata": {
        "id": "Ewx3FEHcJLjy"
      },
      "source": [
        "### Installs"
      ]
    },
    {
      "cell_type": "markdown",
      "metadata": {
        "id": "cRji1fJP4-JI"
      },
      "source": [
        "### dette er en ændring!"
      ]
    },
    {
      "cell_type": "code",
      "metadata": {
        "colab": {
          "base_uri": "https://localhost:8080/"
        },
        "id": "HhGyv5e4UWjb",
        "outputId": "ee8e9afa-c896-4911-a3f3-fcd4a6832c61"
      },
      "source": [
        "!pip3 install box2d-py"
      ],
      "execution_count": 1,
      "outputs": [
        {
          "output_type": "stream",
          "text": [
            "Collecting box2d-py\n",
            "\u001b[?25l  Downloading https://files.pythonhosted.org/packages/87/34/da5393985c3ff9a76351df6127c275dcb5749ae0abbe8d5210f06d97405d/box2d_py-2.3.8-cp37-cp37m-manylinux1_x86_64.whl (448kB)\n",
            "\r\u001b[K     |▊                               | 10kB 9.4MB/s eta 0:00:01\r\u001b[K     |█▌                              | 20kB 14.3MB/s eta 0:00:01\r\u001b[K     |██▏                             | 30kB 9.9MB/s eta 0:00:01\r\u001b[K     |███                             | 40kB 9.2MB/s eta 0:00:01\r\u001b[K     |███▋                            | 51kB 5.0MB/s eta 0:00:01\r\u001b[K     |████▍                           | 61kB 5.3MB/s eta 0:00:01\r\u001b[K     |█████▏                          | 71kB 5.8MB/s eta 0:00:01\r\u001b[K     |█████▉                          | 81kB 6.4MB/s eta 0:00:01\r\u001b[K     |██████▋                         | 92kB 6.2MB/s eta 0:00:01\r\u001b[K     |███████▎                        | 102kB 6.8MB/s eta 0:00:01\r\u001b[K     |████████                        | 112kB 6.8MB/s eta 0:00:01\r\u001b[K     |████████▊                       | 122kB 6.8MB/s eta 0:00:01\r\u001b[K     |█████████▌                      | 133kB 6.8MB/s eta 0:00:01\r\u001b[K     |██████████▎                     | 143kB 6.8MB/s eta 0:00:01\r\u001b[K     |███████████                     | 153kB 6.8MB/s eta 0:00:01\r\u001b[K     |███████████▊                    | 163kB 6.8MB/s eta 0:00:01\r\u001b[K     |████████████▍                   | 174kB 6.8MB/s eta 0:00:01\r\u001b[K     |█████████████▏                  | 184kB 6.8MB/s eta 0:00:01\r\u001b[K     |█████████████▉                  | 194kB 6.8MB/s eta 0:00:01\r\u001b[K     |██████████████▋                 | 204kB 6.8MB/s eta 0:00:01\r\u001b[K     |███████████████▍                | 215kB 6.8MB/s eta 0:00:01\r\u001b[K     |████████████████                | 225kB 6.8MB/s eta 0:00:01\r\u001b[K     |████████████████▉               | 235kB 6.8MB/s eta 0:00:01\r\u001b[K     |█████████████████▌              | 245kB 6.8MB/s eta 0:00:01\r\u001b[K     |██████████████████▎             | 256kB 6.8MB/s eta 0:00:01\r\u001b[K     |███████████████████             | 266kB 6.8MB/s eta 0:00:01\r\u001b[K     |███████████████████▊            | 276kB 6.8MB/s eta 0:00:01\r\u001b[K     |████████████████████▌           | 286kB 6.8MB/s eta 0:00:01\r\u001b[K     |█████████████████████▏          | 296kB 6.8MB/s eta 0:00:01\r\u001b[K     |██████████████████████          | 307kB 6.8MB/s eta 0:00:01\r\u001b[K     |██████████████████████▋         | 317kB 6.8MB/s eta 0:00:01\r\u001b[K     |███████████████████████▍        | 327kB 6.8MB/s eta 0:00:01\r\u001b[K     |████████████████████████        | 337kB 6.8MB/s eta 0:00:01\r\u001b[K     |████████████████████████▉       | 348kB 6.8MB/s eta 0:00:01\r\u001b[K     |█████████████████████████▋      | 358kB 6.8MB/s eta 0:00:01\r\u001b[K     |██████████████████████████▎     | 368kB 6.8MB/s eta 0:00:01\r\u001b[K     |███████████████████████████     | 378kB 6.8MB/s eta 0:00:01\r\u001b[K     |███████████████████████████▊    | 389kB 6.8MB/s eta 0:00:01\r\u001b[K     |████████████████████████████▌   | 399kB 6.8MB/s eta 0:00:01\r\u001b[K     |█████████████████████████████▏  | 409kB 6.8MB/s eta 0:00:01\r\u001b[K     |██████████████████████████████  | 419kB 6.8MB/s eta 0:00:01\r\u001b[K     |██████████████████████████████▊ | 430kB 6.8MB/s eta 0:00:01\r\u001b[K     |███████████████████████████████▍| 440kB 6.8MB/s eta 0:00:01\r\u001b[K     |████████████████████████████████| 450kB 6.8MB/s \n",
            "\u001b[?25hInstalling collected packages: box2d-py\n",
            "Successfully installed box2d-py-2.3.8\n"
          ],
          "name": "stdout"
        }
      ]
    },
    {
      "cell_type": "markdown",
      "metadata": {
        "id": "_h9tc2wZJSW0"
      },
      "source": [
        "### Imports"
      ]
    },
    {
      "cell_type": "code",
      "metadata": {
        "id": "k4_0GiALC7MU"
      },
      "source": [
        "import gym\n",
        "\n",
        "# import wandb\n",
        "\n",
        "# # 1. Start a new run\n",
        "# wandb.init(project='RFL-AMAS', entity='maskel')\n",
        "\n",
        "# # 2. Save model inputs and hyperparameters\n",
        "# config = wandb.config\n",
        "# config.learning_rate = 0.01\n",
        "\n",
        "# # 3. Log gradients and model parameters\n",
        "# wandb.watch(model)\n",
        "# for batch_idx, (data, target) in enumerate(train_loader):\n",
        "#   ...\n",
        "#   if batch_idx % args.log_interval == 0:\n",
        "#     # 4. Log metrics to visualize performance\n",
        "#     wandb.log({\"loss\": loss})\n",
        "  "
      ],
      "execution_count": 2,
      "outputs": []
    },
    {
      "cell_type": "markdown",
      "metadata": {
        "id": "SgZ4rf88Iz6D"
      },
      "source": [
        "###Video render function "
      ]
    },
    {
      "cell_type": "code",
      "metadata": {
        "id": "NkkIUAOjKk13"
      },
      "source": [
        "!pip install gym pyvirtualdisplay > /dev/null 2>&1\n",
        "!apt-get install -y xvfb python-opengl ffmpeg > /dev/null 2>&1"
      ],
      "execution_count": 3,
      "outputs": []
    },
    {
      "cell_type": "code",
      "metadata": {
        "colab": {
          "base_uri": "https://localhost:8080/"
        },
        "id": "HY5cEfWjKDcp",
        "outputId": "568ea390-1f16-4b65-eeec-23927e36a1c6"
      },
      "source": [
        "import glob\n",
        "import io\n",
        "import base64\n",
        "from IPython.display import HTML\n",
        "\n",
        "from IPython import display as ipythondisplay\n",
        "from gym.wrappers import Monitor\n",
        "\n",
        "from pyvirtualdisplay import Display\n",
        "display = Display(visible=0, size=(1400, 900))\n",
        "display.start()"
      ],
      "execution_count": 4,
      "outputs": [
        {
          "output_type": "execute_result",
          "data": {
            "text/plain": [
              "<pyvirtualdisplay.display.Display at 0x7f57aebc9f90>"
            ]
          },
          "metadata": {
            "tags": []
          },
          "execution_count": 4
        }
      ]
    },
    {
      "cell_type": "code",
      "metadata": {
        "id": "j8TbGo9YX1aX"
      },
      "source": [
        "# ja jeg har tyv stjålet dette\n",
        "# og nej jeg har ingen anse om hvad det gør men det virker!\n",
        "def show_video():\n",
        "  mp4list = glob.glob('video/*.mp4')\n",
        "  if len(mp4list) > 0:\n",
        "    mp4 = mp4list[0]\n",
        "    video = io.open(mp4, 'r+b').read()\n",
        "    encoded = base64.b64encode(video)\n",
        "    ipythondisplay.display(HTML(data='''<video alt=\"test\" autoplay \n",
        "                loop controls style=\"height: 400px;\">\n",
        "                <source src=\"data:video/mp4;base64,{0}\" type=\"video/mp4\" />\n",
        "             </video>'''.format(encoded.decode('ascii'))))\n",
        "  else: \n",
        "    print(\"Could not find video\")\n",
        "    \n",
        "\n",
        "def wrap_env(env):\n",
        "  env = Monitor(env, './video', force=True)\n",
        "  return env"
      ],
      "execution_count": 5,
      "outputs": []
    },
    {
      "cell_type": "code",
      "metadata": {
        "colab": {
          "base_uri": "https://localhost:8080/",
          "height": 421
        },
        "id": "u3ahv-SeJF8Z",
        "outputId": "255dbe28-ea07-4d89-e1be-2457fa93fce8"
      },
      "source": [
        "env = wrap_env(env = gym.make('LunarLander-v2'))\n",
        "observation = env.reset()\n",
        "\n",
        "while True:\n",
        "  \n",
        "    env.render()\n",
        "    \n",
        "    #your agent goes here\n",
        "    action = env.action_space.sample() \n",
        "         \n",
        "    observation, reward, done, info = env.step(action) \n",
        "   \n",
        "        \n",
        "    if done: \n",
        "      break;\n",
        "            \n",
        "env.close()\n",
        "show_video()"
      ],
      "execution_count": 6,
      "outputs": [
        {
          "output_type": "display_data",
          "data": {
            "text/html": [
              "<video alt=\"test\" autoplay \n",
              "                loop controls style=\"height: 400px;\">\n",
              "                <source src=\"data:video/mp4;base64,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\" type=\"video/mp4\" />\n",
              "             </video>"
            ],
            "text/plain": [
              "<IPython.core.display.HTML object>"
            ]
          },
          "metadata": {
            "tags": []
          }
        }
      ]
    },
    {
      "cell_type": "code",
      "metadata": {
        "id": "Hj-xtQA-S3RD",
        "colab": {
          "base_uri": "https://localhost:8080/",
          "height": 178
        },
        "outputId": "aa3828e5-127b-4e1a-dcea-f08b883ec636"
      },
      "source": [
        "# import argparse\n",
        "\n",
        "# parser = argparse.ArgumentParser()\n",
        "# parser.add_argument('--env', help='CartPole or LunarLander OpenAI gym environment', type=str)\n",
        "# parser.add_argument('--use_cuda', help='Use if you want to use CUDA', action='store_true')\n",
        "\n",
        "# args = parser.parse_args()\n",
        "# env = args.env\n",
        "# #use_cuda = args.use_cuda"
      ],
      "execution_count": null,
      "outputs": [
        {
          "output_type": "stream",
          "text": [
            "usage: ipykernel_launcher.py [-h] [--env ENV] [--use_cuda]\n",
            "ipykernel_launcher.py: error: unrecognized arguments: -f /root/.local/share/jupyter/runtime/kernel-5b741449-9f48-43e3-ae50-b46df27a75ea.json\n"
          ],
          "name": "stderr"
        },
        {
          "output_type": "error",
          "ename": "SystemExit",
          "evalue": "ignored",
          "traceback": [
            "An exception has occurred, use %tb to see the full traceback.\n",
            "\u001b[0;31mSystemExit\u001b[0m\u001b[0;31m:\u001b[0m 2\n"
          ]
        },
        {
          "output_type": "stream",
          "text": [
            "/usr/local/lib/python3.7/dist-packages/IPython/core/interactiveshell.py:2890: UserWarning: To exit: use 'exit', 'quit', or Ctrl-D.\n",
            "  warn(\"To exit: use 'exit', 'quit', or Ctrl-D.\", stacklevel=1)\n"
          ],
          "name": "stderr"
        }
      ]
    },
    {
      "cell_type": "code",
      "metadata": {
        "id": "CaP3aEZv4LC6"
      },
      "source": [
        "import gym\n",
        "import numpy as np\n",
        "import torch\n",
        "import torch.nn as nn\n",
        "import torch.optim as optim\n",
        "from torch.nn.functional import one_hot, log_softmax, softmax, normalize\n",
        "from torch.distributions import Categorical\n",
        "from torch.utils.tensorboard import SummaryWriter\n",
        "from collections import deque\n",
        "import argparse\n",
        "\n",
        "parser = argparse.ArgumentParser()\n",
        "parser.add_argument('--env', help='CartPole or LunarLander OpenAI gym environment', type=str)\n",
        "parser.add_argument('--use_cuda', help='Use if you want to use CUDA', action='store_true')\n",
        "\n",
        "\n",
        "class Params:\n",
        "    NUM_EPOCHS = 5000\n",
        "    ALPHA = 5e-3        # learning rate\n",
        "    BATCH_SIZE = 64     # how many episodes we want to pack into an epoch\n",
        "    GAMMA = 0.99        # discount rate\n",
        "    HIDDEN_SIZE = 64    # number of hidden nodes we have in our dnn\n",
        "    BETA = 0.1          # the entropy bonus multiplier\n",
        "\n",
        "\n",
        "# Q-table is replaced by a neural network\n",
        "class Agent(nn.Module):\n",
        "    def __init__(self, observation_space_size: int, action_space_size: int, hidden_size: int):\n",
        "        super(Agent, self).__init__()\n",
        "\n",
        "        self.net = nn.Sequential(\n",
        "            nn.Linear(in_features=observation_space_size, out_features=hidden_size, bias=True),\n",
        "            nn.PReLU(),\n",
        "            nn.Linear(in_features=hidden_size, out_features=hidden_size, bias=True),\n",
        "            nn.PReLU(),\n",
        "            nn.Linear(in_features=hidden_size, out_features=action_space_size, bias=True)\n",
        "        )\n",
        "\n",
        "    def forward(self, x):\n",
        "        x = normalize(x, dim=1)\n",
        "        x = self.net(x)\n",
        "        return x\n",
        "\n",
        "\n",
        "class PolicyGradient:\n",
        "    def __init__(self, problem: str = \"CartPole\", use_cuda: bool = False):\n",
        "\n",
        "        self.NUM_EPOCHS = Params.NUM_EPOCHS\n",
        "        self.ALPHA = Params.ALPHA\n",
        "        self.BATCH_SIZE = Params.BATCH_SIZE\n",
        "        self.GAMMA = Params.GAMMA\n",
        "        self.HIDDEN_SIZE = Params.HIDDEN_SIZE\n",
        "        self.BETA = Params.BETA\n",
        "        self.DEVICE = torch.device('cuda' if torch.cuda.is_available() and use_cuda else 'cpu')\n",
        "\n",
        "        # instantiate the tensorboard writer\n",
        "        self.writer = SummaryWriter(comment=f'_PG_CP_Gamma={self.GAMMA},'\n",
        "                                            f'LR={self.ALPHA},'\n",
        "                                            f'BS={self.BATCH_SIZE},'\n",
        "                                            f'NH={self.HIDDEN_SIZE},'\n",
        "                                            f'BETA={self.BETA}')\n",
        "\n",
        "        # create the environment\n",
        "        self.env = gym.make('LunarLander-v2')\n",
        "\n",
        "        # the agent driven by a neural network architecture\n",
        "        self.agent = Agent(observation_space_size=self.env.observation_space.shape[0],\n",
        "                           action_space_size=self.env.action_space.n,\n",
        "                           hidden_size=self.HIDDEN_SIZE).to(self.DEVICE)\n",
        "\n",
        "        self.adam = optim.Adam(params=self.agent.parameters(), lr=self.ALPHA)\n",
        "\n",
        "        self.total_rewards = deque([], maxlen=100)\n",
        "\n",
        "        # flag to figure out if we have render a single episode current epoch\n",
        "        self.finished_rendering_this_epoch = False\n",
        "\n",
        "    def solve_environment(self):\n",
        "        \"\"\"\n",
        "            The main interface for the Policy Gradient solver\n",
        "        \"\"\"\n",
        "        # init the episode and the epoch\n",
        "        episode = 0\n",
        "        epoch = 0\n",
        "\n",
        "        # init the epoch arrays\n",
        "        # used for entropy calculation\n",
        "        epoch_logits = torch.empty(size=(0, self.env.action_space.n), device=self.DEVICE)\n",
        "        epoch_weighted_log_probs = torch.empty(size=(0,), dtype=torch.float, device=self.DEVICE)\n",
        "\n",
        "        while True:\n",
        "\n",
        "            # play an episode of the environment\n",
        "            (episode_weighted_log_prob_trajectory,\n",
        "             episode_logits,\n",
        "             sum_of_episode_rewards,\n",
        "             episode) = self.play_episode(episode=episode)\n",
        "\n",
        "            # after each episode append the sum of total rewards to the deque\n",
        "            self.total_rewards.append(sum_of_episode_rewards)\n",
        "\n",
        "            # append the weighted log-probabilities of actions\n",
        "            epoch_weighted_log_probs = torch.cat((epoch_weighted_log_probs, episode_weighted_log_prob_trajectory),\n",
        "                                                 dim=0)\n",
        "\n",
        "            # append the logits - needed for the entropy bonus calculation\n",
        "            epoch_logits = torch.cat((epoch_logits, episode_logits), dim=0)\n",
        "\n",
        "            # if the epoch is over - we have epoch trajectories to perform the policy gradient\n",
        "            if episode >= self.BATCH_SIZE:\n",
        "\n",
        "                # reset the rendering flag\n",
        "                self.finished_rendering_this_epoch = False\n",
        "\n",
        "                # reset the episode count\n",
        "                episode = 0\n",
        "\n",
        "                # increment the epoch\n",
        "                epoch += 1\n",
        "\n",
        "                # calculate the loss\n",
        "                loss, entropy = self.calculate_loss(epoch_logits=epoch_logits,\n",
        "                                                    weighted_log_probs=epoch_weighted_log_probs)\n",
        "\n",
        "                # zero the gradient\n",
        "                self.adam.zero_grad()\n",
        "\n",
        "                # backprop\n",
        "                loss.backward()\n",
        "\n",
        "                # update the parameters\n",
        "                self.adam.step()\n",
        "\n",
        "                # feedback\n",
        "                print(\"\\r\", f\"Epoch: {epoch}, Avg Return per Epoch: {np.mean(self.total_rewards):.3f}\",\n",
        "                      end=\"\",\n",
        "                      flush=True)\n",
        "\n",
        "                self.writer.add_scalar(tag='Average Return over 100 episodes',\n",
        "                                       scalar_value=np.mean(self.total_rewards),\n",
        "                                       global_step=epoch)\n",
        "\n",
        "                self.writer.add_scalar(tag='Entropy',\n",
        "                                       scalar_value=entropy,\n",
        "                                       global_step=epoch)\n",
        "\n",
        "                # reset the epoch arrays\n",
        "                # used for entropy calculation\n",
        "                epoch_logits = torch.empty(size=(0, self.env.action_space.n), device=self.DEVICE)\n",
        "                epoch_weighted_log_probs = torch.empty(size=(0,), dtype=torch.float, device=self.DEVICE)\n",
        "\n",
        "                # check if solved\n",
        "                if np.mean(self.total_rewards) > 200:\n",
        "                    print('\\nSolved!')\n",
        "                    break\n",
        "\n",
        "        # close the environment\n",
        "        self.env.close()\n",
        "\n",
        "        # close the writer\n",
        "        self.writer.close()\n",
        "\n",
        "    def play_episode(self, episode: int):\n",
        "        \"\"\"\n",
        "            Plays an episode of the environment.\n",
        "            episode: the episode counter\n",
        "            Returns:\n",
        "                sum_weighted_log_probs: the sum of the log-prob of an action multiplied by the reward-to-go from that state\n",
        "                episode_logits: the logits of every step of the episode - needed to compute entropy for entropy bonus\n",
        "                finished_rendering_this_epoch: pass-through rendering flag\n",
        "                sum_of_rewards: sum of the rewards for the episode - needed for the average over 200 episode statistic\n",
        "        \"\"\"\n",
        "        # reset the environment to a random initial state every epoch\n",
        "        state = self.env.reset()\n",
        "\n",
        "        # initialize the episode arrays\n",
        "        episode_actions = torch.empty(size=(0,), dtype=torch.long, device=self.DEVICE)\n",
        "        episode_logits = torch.empty(size=(0, self.env.action_space.n), device=self.DEVICE)\n",
        "        average_rewards = np.empty(shape=(0,), dtype=np.float)\n",
        "        episode_rewards = np.empty(shape=(0,), dtype=np.float)\n",
        "\n",
        "        # episode loop\n",
        "        while True:\n",
        "\n",
        "            # render the environment for the first episode in the epoch\n",
        "            if not self.finished_rendering_this_epoch:\n",
        "                self.env.render()\n",
        "\n",
        "            # get the action logits from the agent - (preferences)\n",
        "            action_logits = self.agent(torch.tensor(state).float().unsqueeze(dim=0).to(self.DEVICE))\n",
        "\n",
        "            # append the logits to the episode logits list\n",
        "            episode_logits = torch.cat((episode_logits, action_logits), dim=0)\n",
        "\n",
        "            # sample an action according to the action distribution\n",
        "            action = Categorical(logits=action_logits).sample()\n",
        "\n",
        "            # append the action to the episode action list to obtain the trajectory\n",
        "            # we need to store the actions and logits so we could calculate the gradient of the performance\n",
        "            episode_actions = torch.cat((episode_actions, action), dim=0)\n",
        "\n",
        "            # take the chosen action, observe the reward and the next state\n",
        "            state, reward, done, _ = self.env.step(action=action.cpu().item())\n",
        "\n",
        "            # append the reward to the rewards pool that we collect during the episode\n",
        "            # we need the rewards so we can calculate the weights for the policy gradient\n",
        "            # and the baseline of average\n",
        "            episode_rewards = np.concatenate((episode_rewards, np.array([reward])), axis=0)\n",
        "\n",
        "            # here the average reward is state specific\n",
        "            average_rewards = np.concatenate((average_rewards,\n",
        "                                              np.expand_dims(np.mean(episode_rewards), axis=0)),\n",
        "                                             axis=0)\n",
        "\n",
        "            # the episode is over\n",
        "            if done:\n",
        "\n",
        "                # increment the episode\n",
        "                episode += 1\n",
        "\n",
        "                # turn the rewards we accumulated during the episode into the rewards-to-go:\n",
        "                # earlier actions are responsible for more rewards than the later taken actions\n",
        "                discounted_rewards_to_go = PolicyGradient.get_discounted_rewards(rewards=episode_rewards,\n",
        "                                                                                 gamma=self.GAMMA)\n",
        "                discounted_rewards_to_go -= average_rewards  # baseline - state specific average\n",
        "\n",
        "                # # calculate the sum of the rewards for the running average metric\n",
        "                sum_of_rewards = np.sum(episode_rewards)\n",
        "\n",
        "                # set the mask for the actions taken in the episode\n",
        "                mask = one_hot(episode_actions, num_classes=self.env.action_space.n)\n",
        "\n",
        "                # calculate the log-probabilities of the taken actions\n",
        "                # mask is needed to filter out log-probabilities of not related logits\n",
        "                episode_log_probs = torch.sum(mask.float() * log_softmax(episode_logits, dim=1), dim=1)\n",
        "\n",
        "                # weight the episode log-probabilities by the rewards-to-go\n",
        "                episode_weighted_log_probs = episode_log_probs * \\\n",
        "                    torch.tensor(discounted_rewards_to_go).float().to(self.DEVICE)\n",
        "\n",
        "                # calculate the sum over trajectory of the weighted log-probabilities\n",
        "                sum_weighted_log_probs = torch.sum(episode_weighted_log_probs).unsqueeze(dim=0)\n",
        "\n",
        "                # won't render again this epoch\n",
        "                self.finished_rendering_this_epoch = True\n",
        "\n",
        "                return sum_weighted_log_probs, episode_logits, sum_of_rewards, episode\n",
        "\n",
        "    def calculate_loss(self, epoch_logits: torch.Tensor, weighted_log_probs: torch.Tensor) -> (torch.Tensor, torch.Tensor):\n",
        "        \"\"\"\n",
        "            Calculates the policy \"loss\" and the entropy bonus\n",
        "            Args:\n",
        "                epoch_logits: logits of the policy network we have collected over the epoch\n",
        "                weighted_log_probs: loP * W of the actions taken\n",
        "            Returns:\n",
        "                policy loss + the entropy bonus\n",
        "                entropy: needed for logging\n",
        "        \"\"\"\n",
        "        policy_loss = -1 * torch.mean(weighted_log_probs)\n",
        "\n",
        "        # add the entropy bonus\n",
        "        p = softmax(epoch_logits, dim=1)\n",
        "        log_p = log_softmax(epoch_logits, dim=1)\n",
        "        entropy = -1 * torch.mean(torch.sum(p * log_p, dim=1), dim=0)\n",
        "        entropy_bonus = -1 * self.BETA * entropy\n",
        "\n",
        "        return policy_loss + entropy_bonus, entropy\n",
        "\n",
        "    @staticmethod\n",
        "    def get_discounted_rewards(rewards: np.array, gamma: float) -> np.array:\n",
        "        \"\"\"\n",
        "            Calculates the sequence of discounted rewards-to-go.\n",
        "            Args:\n",
        "                rewards: the sequence of observed rewards\n",
        "                gamma: the discount factor\n",
        "            Returns:\n",
        "                discounted_rewards: the sequence of the rewards-to-go\n",
        "        \"\"\"\n",
        "        discounted_rewards = np.empty_like(rewards, dtype=np.float)\n",
        "        for i in range(rewards.shape[0]):\n",
        "            gammas = np.full(shape=(rewards[i:].shape[0]), fill_value=gamma)\n",
        "            discounted_gammas = np.power(gammas, np.arange(rewards[i:].shape[0]))\n",
        "            discounted_reward = np.sum(rewards[i:] * discounted_gammas)\n",
        "            discounted_rewards[i] = discounted_reward\n",
        "        return discounted_rewards"
      ],
      "execution_count": 7,
      "outputs": []
    },
    {
      "cell_type": "code",
      "metadata": {
        "id": "WuR4tV_VUwe1",
        "outputId": "ff727996-e833-4077-ec99-340b753fa137",
        "colab": {
          "base_uri": "https://localhost:8080/"
        }
      },
      "source": [
        "policy_gradient = PolicyGradient(problem=env)\n",
        "policy_gradient.solve_environment()"
      ],
      "execution_count": null,
      "outputs": [
        {
          "output_type": "stream",
          "text": [
            " Epoch: 57, Avg Return per Epoch: 30.386"
          ],
          "name": "stdout"
        }
      ]
    }
  ]
}