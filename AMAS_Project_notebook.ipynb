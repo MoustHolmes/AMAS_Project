{
  "nbformat": 4,
  "nbformat_minor": 0,
  "metadata": {
    "colab": {
      "name": "RFL_AMAS.ipynb",
      "provenance": [],
      "collapsed_sections": [],
      "toc_visible": true,
      "include_colab_link": true
    },
    "kernelspec": {
      "name": "python3",
      "display_name": "Python 3"
    }
  },
  "cells": [
    {
      "cell_type": "markdown",
      "metadata": {
        "id": "view-in-github",
        "colab_type": "text"
      },
      "source": [
        "<a href=\"https://colab.research.google.com/github/MoustHolmes/AMAS_Project/blob/Aske/AMAS_Project_notebook.ipynb\" target=\"_parent\"><img src=\"https://colab.research.google.com/assets/colab-badge.svg\" alt=\"Open In Colab\"/></a>"
      ]
    },
    {
      "cell_type": "markdown",
      "metadata": {
        "id": "Ewx3FEHcJLjy"
      },
      "source": [
        "### Installs"
      ]
    },
    {
      "cell_type": "code",
      "metadata": {
        "colab": {
          "base_uri": "https://localhost:8080/"
        },
        "id": "HhGyv5e4UWjb",
        "outputId": "ff92689b-5f40-490c-cba2-da42ce2c3a53"
      },
      "source": [
        "!pip3 install box2d-py"
      ],
      "execution_count": null,
      "outputs": [
        {
          "output_type": "stream",
          "text": [
            "Collecting box2d-py\n",
            "\u001b[?25l  Downloading https://files.pythonhosted.org/packages/87/34/da5393985c3ff9a76351df6127c275dcb5749ae0abbe8d5210f06d97405d/box2d_py-2.3.8-cp37-cp37m-manylinux1_x86_64.whl (448kB)\n",
            "\r\u001b[K     |▊                               | 10kB 10.4MB/s eta 0:00:01\r\u001b[K     |█▌                              | 20kB 15.4MB/s eta 0:00:01\r\u001b[K     |██▏                             | 30kB 9.6MB/s eta 0:00:01\r\u001b[K     |███                             | 40kB 7.9MB/s eta 0:00:01\r\u001b[K     |███▋                            | 51kB 4.5MB/s eta 0:00:01\r\u001b[K     |████▍                           | 61kB 5.1MB/s eta 0:00:01\r\u001b[K     |█████▏                          | 71kB 5.2MB/s eta 0:00:01\r\u001b[K     |█████▉                          | 81kB 5.6MB/s eta 0:00:01\r\u001b[K     |██████▋                         | 92kB 5.1MB/s eta 0:00:01\r\u001b[K     |███████▎                        | 102kB 4.4MB/s eta 0:00:01\r\u001b[K     |████████                        | 112kB 4.4MB/s eta 0:00:01\r\u001b[K     |████████▊                       | 122kB 4.4MB/s eta 0:00:01\r\u001b[K     |█████████▌                      | 133kB 4.4MB/s eta 0:00:01\r\u001b[K     |██████████▎                     | 143kB 4.4MB/s eta 0:00:01\r\u001b[K     |███████████                     | 153kB 4.4MB/s eta 0:00:01\r\u001b[K     |███████████▊                    | 163kB 4.4MB/s eta 0:00:01\r\u001b[K     |████████████▍                   | 174kB 4.4MB/s eta 0:00:01\r\u001b[K     |█████████████▏                  | 184kB 4.4MB/s eta 0:00:01\r\u001b[K     |█████████████▉                  | 194kB 4.4MB/s eta 0:00:01\r\u001b[K     |██████████████▋                 | 204kB 4.4MB/s eta 0:00:01\r\u001b[K     |███████████████▍                | 215kB 4.4MB/s eta 0:00:01\r\u001b[K     |████████████████                | 225kB 4.4MB/s eta 0:00:01\r\u001b[K     |████████████████▉               | 235kB 4.4MB/s eta 0:00:01\r\u001b[K     |█████████████████▌              | 245kB 4.4MB/s eta 0:00:01\r\u001b[K     |██████████████████▎             | 256kB 4.4MB/s eta 0:00:01\r\u001b[K     |███████████████████             | 266kB 4.4MB/s eta 0:00:01\r\u001b[K     |███████████████████▊            | 276kB 4.4MB/s eta 0:00:01\r\u001b[K     |████████████████████▌           | 286kB 4.4MB/s eta 0:00:01\r\u001b[K     |█████████████████████▏          | 296kB 4.4MB/s eta 0:00:01\r\u001b[K     |██████████████████████          | 307kB 4.4MB/s eta 0:00:01\r\u001b[K     |██████████████████████▋         | 317kB 4.4MB/s eta 0:00:01\r\u001b[K     |███████████████████████▍        | 327kB 4.4MB/s eta 0:00:01\r\u001b[K     |████████████████████████        | 337kB 4.4MB/s eta 0:00:01\r\u001b[K     |████████████████████████▉       | 348kB 4.4MB/s eta 0:00:01\r\u001b[K     |█████████████████████████▋      | 358kB 4.4MB/s eta 0:00:01\r\u001b[K     |██████████████████████████▎     | 368kB 4.4MB/s eta 0:00:01\r\u001b[K     |███████████████████████████     | 378kB 4.4MB/s eta 0:00:01\r\u001b[K     |███████████████████████████▊    | 389kB 4.4MB/s eta 0:00:01\r\u001b[K     |████████████████████████████▌   | 399kB 4.4MB/s eta 0:00:01\r\u001b[K     |█████████████████████████████▏  | 409kB 4.4MB/s eta 0:00:01\r\u001b[K     |██████████████████████████████  | 419kB 4.4MB/s eta 0:00:01\r\u001b[K     |██████████████████████████████▊ | 430kB 4.4MB/s eta 0:00:01\r\u001b[K     |███████████████████████████████▍| 440kB 4.4MB/s eta 0:00:01\r\u001b[K     |████████████████████████████████| 450kB 4.4MB/s \n",
            "\u001b[?25hInstalling collected packages: box2d-py\n",
            "Successfully installed box2d-py-2.3.8\n"
          ],
          "name": "stdout"
        }
      ]
    },
    {
      "cell_type": "markdown",
      "metadata": {
        "id": "_h9tc2wZJSW0"
      },
      "source": [
        "### Imports"
      ]
    },
    {
      "cell_type": "code",
      "metadata": {
        "id": "k4_0GiALC7MU"
      },
      "source": [
        "import gym\n",
        "\n",
        "# import wandb\n",
        "\n",
        "# # 1. Start a new run\n",
        "# wandb.init(project='RFL-AMAS', entity='maskel')\n",
        "\n",
        "# # 2. Save model inputs and hyperparameters\n",
        "# config = wandb.config\n",
        "# config.learning_rate = 0.01\n",
        "\n",
        "# # 3. Log gradients and model parameters\n",
        "# wandb.watch(model)\n",
        "# for batch_idx, (data, target) in enumerate(train_loader):\n",
        "#   ...\n",
        "#   if batch_idx % args.log_interval == 0:\n",
        "#     # 4. Log metrics to visualize performance\n",
        "#     wandb.log({\"loss\": loss})\n",
        "  "
      ],
      "execution_count": null,
      "outputs": []
    },
    {
      "cell_type": "markdown",
      "metadata": {
        "id": "SgZ4rf88Iz6D"
      },
      "source": [
        "###Video render function "
      ]
    },
    {
      "cell_type": "code",
      "metadata": {
        "id": "NkkIUAOjKk13"
      },
      "source": [
        "!pip install gym pyvirtualdisplay > /dev/null 2>&1\n",
        "!apt-get install -y xvfb python-opengl ffmpeg > /dev/null 2>&1"
      ],
      "execution_count": null,
      "outputs": []
    },
    {
      "cell_type": "code",
      "metadata": {
        "colab": {
          "base_uri": "https://localhost:8080/"
        },
        "id": "HY5cEfWjKDcp",
        "outputId": "e8baee1d-4904-4c94-de90-84afeb95265c"
      },
      "source": [
        "import glob\n",
        "import io\n",
        "import base64\n",
        "from IPython.display import HTML\n",
        "\n",
        "from IPython import display as ipythondisplay\n",
        "from gym.wrappers import Monitor\n",
        "\n",
        "from pyvirtualdisplay import Display\n",
        "display = Display(visible=0, size=(1400, 900))\n",
        "display.start()"
      ],
      "execution_count": null,
      "outputs": [
        {
          "output_type": "execute_result",
          "data": {
            "text/plain": [
              "<pyvirtualdisplay.display.Display at 0x7fdee2437150>"
            ]
          },
          "metadata": {
            "tags": []
          },
          "execution_count": 3
        }
      ]
    },
    {
      "cell_type": "code",
      "metadata": {
        "id": "j8TbGo9YX1aX"
      },
      "source": [
        "# ja jeg har tyv stjålet dette\n",
        "# og nej jeg har ingen anse om hvad det gør men det virker!\n",
        "def show_video():\n",
        "  mp4list = glob.glob('video/*.mp4')\n",
        "  if len(mp4list) > 0:\n",
        "    mp4 = mp4list[0]\n",
        "    video = io.open(mp4, 'r+b').read()\n",
        "    encoded = base64.b64encode(video)\n",
        "    ipythondisplay.display(HTML(data='''<video alt=\"test\" autoplay \n",
        "                loop controls style=\"height: 400px;\">\n",
        "                <source src=\"data:video/mp4;base64,{0}\" type=\"video/mp4\" />\n",
        "             </video>'''.format(encoded.decode('ascii'))))\n",
        "  else: \n",
        "    print(\"Could not find video\")\n",
        "    \n",
        "\n",
        "def wrap_env(env):\n",
        "  env = Monitor(env, './video', force=True)\n",
        "  return env"
      ],
      "execution_count": null,
      "outputs": []
    },
    {
      "cell_type": "code",
      "metadata": {
        "colab": {
          "base_uri": "https://localhost:8080/",
          "height": 420
        },
        "id": "u3ahv-SeJF8Z",
        "outputId": "0c8822fa-6ae9-49d1-a04c-db8012a338d0"
      },
      "source": [
        "env = wrap_env(env = gym.make('LunarLander-v2'))\n",
        "observation = env.reset()\n",
        "\n",
        "while True:\n",
        "  \n",
        "    env.render()\n",
        "    \n",
        "    #your agent goes here\n",
        "    action = env.action_space.sample() \n",
        "         \n",
        "    observation, reward, done, info = env.step(action) \n",
        "   \n",
        "        \n",
        "    if done: \n",
        "      break;\n",
        "            \n",
        "env.close()\n",
        "show_video()"
      ],
      "execution_count": null,
      "outputs": [
        {
          "output_type": "display_data",
          "data": {
            "text/html": [
              "<video alt=\"test\" autoplay \n",
              "                loop controls style=\"height: 400px;\">\n",
              "                <source src=\"data:video/mp4;base64,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\" type=\"video/mp4\" />\n",
              "             </video>"
            ],
            "text/plain": [
              "<IPython.core.display.HTML object>"
            ]
          },
          "metadata": {
            "tags": []
          }
        }
      ]
    },
    {
      "cell_type": "code",
      "metadata": {
        "id": "Hj-xtQA-S3RD",
        "colab": {
          "base_uri": "https://localhost:8080/",
          "height": 178
        },
        "outputId": "aa3828e5-127b-4e1a-dcea-f08b883ec636"
      },
      "source": [
        "# import argparse\n",
        "\n",
        "# parser = argparse.ArgumentParser()\n",
        "# parser.add_argument('--env', help='CartPole or LunarLander OpenAI gym environment', type=str)\n",
        "# parser.add_argument('--use_cuda', help='Use if you want to use CUDA', action='store_true')\n",
        "\n",
        "# args = parser.parse_args()\n",
        "# env = args.env\n",
        "# #use_cuda = args.use_cuda"
      ],
      "execution_count": null,
      "outputs": [
        {
          "output_type": "stream",
          "text": [
            "usage: ipykernel_launcher.py [-h] [--env ENV] [--use_cuda]\n",
            "ipykernel_launcher.py: error: unrecognized arguments: -f /root/.local/share/jupyter/runtime/kernel-5b741449-9f48-43e3-ae50-b46df27a75ea.json\n"
          ],
          "name": "stderr"
        },
        {
          "output_type": "error",
          "ename": "SystemExit",
          "evalue": "ignored",
          "traceback": [
            "An exception has occurred, use %tb to see the full traceback.\n",
            "\u001b[0;31mSystemExit\u001b[0m\u001b[0;31m:\u001b[0m 2\n"
          ]
        },
        {
          "output_type": "stream",
          "text": [
            "/usr/local/lib/python3.7/dist-packages/IPython/core/interactiveshell.py:2890: UserWarning: To exit: use 'exit', 'quit', or Ctrl-D.\n",
            "  warn(\"To exit: use 'exit', 'quit', or Ctrl-D.\", stacklevel=1)\n"
          ],
          "name": "stderr"
        }
      ]
    },
    {
      "cell_type": "code",
      "metadata": {
        "id": "CaP3aEZv4LC6"
      },
      "source": [
        ""
      ],
      "execution_count": null,
      "outputs": []
    }
  ]
}