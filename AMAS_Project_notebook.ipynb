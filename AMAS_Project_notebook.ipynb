{
  "nbformat": 4,
  "nbformat_minor": 0,
  "metadata": {
    "colab": {
      "name": "RFL_AMAS.ipynb",
      "provenance": [],
      "collapsed_sections": [],
      "toc_visible": true
    },
    "kernelspec": {
      "name": "python3",
      "display_name": "Python 3"
    }
  },
  "cells": [
    {
      "cell_type": "markdown",
      "metadata": {
        "id": "Ewx3FEHcJLjy"
      },
      "source": [
        "### Installs"
      ]
    },
    {
      "cell_type": "code",
      "metadata": {
        "colab": {
          "base_uri": "https://localhost:8080/"
        },
        "id": "HhGyv5e4UWjb",
        "outputId": "96b42873-8e4b-4263-945d-2664b2c5b16b"
      },
      "source": [
        "!pip3 install box2d-py"
      ],
      "execution_count": null,
      "outputs": [
        {
          "output_type": "stream",
          "text": [
            "Requirement already satisfied: box2d-py in /usr/local/lib/python3.7/dist-packages (2.3.8)\n"
          ],
          "name": "stdout"
        }
      ]
    },
    {
      "cell_type": "markdown",
      "metadata": {
        "id": "_h9tc2wZJSW0"
      },
      "source": [
        "### Imports"
      ]
    },
    {
      "cell_type": "code",
      "metadata": {
        "id": "k4_0GiALC7MU"
      },
      "source": [
        "# import wandb\n",
        "\n",
        "# # 1. Start a new run\n",
        "# wandb.init(project='RFL-AMAS', entity='maskel')\n",
        "\n",
        "# # 2. Save model inputs and hyperparameters\n",
        "# config = wandb.config\n",
        "# config.learning_rate = 0.01\n",
        "\n",
        "# # 3. Log gradients and model parameters\n",
        "# wandb.watch(model)\n",
        "# for batch_idx, (data, target) in enumerate(train_loader):\n",
        "#   ...\n",
        "#   if batch_idx % args.log_interval == 0:\n",
        "#     # 4. Log metrics to visualize performance\n",
        "#     wandb.log({\"loss\": loss})\n",
        "  "
      ],
      "execution_count": null,
      "outputs": []
    },
    {
      "cell_type": "markdown",
      "metadata": {
        "id": "SgZ4rf88Iz6D"
      },
      "source": [
        "###Video render function "
      ]
    },
    {
      "cell_type": "code",
      "metadata": {
        "id": "NkkIUAOjKk13"
      },
      "source": [
        "!pip install gym pyvirtualdisplay > /dev/null 2>&1\n",
        "!apt-get install -y xvfb python-opengl ffmpeg > /dev/null 2>&1"
      ],
      "execution_count": 14,
      "outputs": []
    },
    {
      "cell_type": "code",
      "metadata": {
        "colab": {
          "base_uri": "https://localhost:8080/"
        },
        "id": "HY5cEfWjKDcp",
        "outputId": "89e7ee3e-d60a-49fc-afdb-c43be356e3bd"
      },
      "source": [
        "import glob\n",
        "import io\n",
        "import base64\n",
        "from IPython.display import HTML\n",
        "\n",
        "from IPython import display as ipythondisplay\n",
        "from gym.wrappers import Monitor\n",
        "\n",
        "from pyvirtualdisplay import Display\n",
        "display = Display(visible=0, size=(1400, 900))\n",
        "display.start()"
      ],
      "execution_count": 15,
      "outputs": [
        {
          "output_type": "execute_result",
          "data": {
            "text/plain": [
              "<pyvirtualdisplay.display.Display at 0x7f8ac19a9a90>"
            ]
          },
          "metadata": {
            "tags": []
          },
          "execution_count": 15
        }
      ]
    },
    {
      "cell_type": "code",
      "metadata": {
        "id": "j8TbGo9YX1aX"
      },
      "source": [
        "# ja jeg har tyv stjålet dette\n",
        "# og nej jeg har ingen anse om hvad det gør men det virker!\n",
        "def show_video():\n",
        "  mp4list = glob.glob('video/*.mp4')\n",
        "  if len(mp4list) > 0:\n",
        "    mp4 = mp4list[0]\n",
        "    video = io.open(mp4, 'r+b').read()\n",
        "    encoded = base64.b64encode(video)\n",
        "    ipythondisplay.display(HTML(data='''<video alt=\"test\" autoplay \n",
        "                loop controls style=\"height: 400px;\">\n",
        "                <source src=\"data:video/mp4;base64,{0}\" type=\"video/mp4\" />\n",
        "             </video>'''.format(encoded.decode('ascii'))))\n",
        "  else: \n",
        "    print(\"Could not find video\")\n",
        "    \n",
        "\n",
        "def wrap_env(env):\n",
        "  env = Monitor(env, './video', force=True)\n",
        "  return env"
      ],
      "execution_count": 16,
      "outputs": []
    },
    {
      "cell_type": "code",
      "metadata": {
        "colab": {
          "base_uri": "https://localhost:8080/",
          "height": 420
        },
        "id": "u3ahv-SeJF8Z",
        "outputId": "e4048b7b-953a-462c-a861-0f87e0422947"
      },
      "source": [
        "env = wrap_env(env = gym.make('LunarLander-v2'))\n",
        "observation = env.reset()\n",
        "\n",
        "while True:\n",
        "  \n",
        "    env.render()\n",
        "    \n",
        "    #your agent goes here\n",
        "    action = env.action_space.sample() \n",
        "         \n",
        "    observation, reward, done, info = env.step(action) \n",
        "   \n",
        "        \n",
        "    if done: \n",
        "      break;\n",
        "            \n",
        "env.close()\n",
        "show_video()"
      ],
      "execution_count": 18,
      "outputs": [
        {
          "output_type": "display_data",
          "data": {
            "text/html": [
              "<video alt=\"test\" autoplay \n",
              "                loop controls style=\"height: 400px;\">\n",
              "                <source src=\"data:video/mp4;base64,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\" type=\"video/mp4\" />\n",
              "             </video>"
            ],
            "text/plain": [
              "<IPython.core.display.HTML object>"
            ]
          },
          "metadata": {
            "tags": []
          }
        }
      ]
    },
    {
      "cell_type": "code",
      "metadata": {
        "id": "Hj-xtQA-S3RD",
        "colab": {
          "base_uri": "https://localhost:8080/",
          "height": 178
        },
        "outputId": "aa3828e5-127b-4e1a-dcea-f08b883ec636"
      },
      "source": [
        "# import argparse\n",
        "\n",
        "# parser = argparse.ArgumentParser()\n",
        "# parser.add_argument('--env', help='CartPole or LunarLander OpenAI gym environment', type=str)\n",
        "# parser.add_argument('--use_cuda', help='Use if you want to use CUDA', action='store_true')\n",
        "\n",
        "# args = parser.parse_args()\n",
        "# env = args.env\n",
        "# #use_cuda = args.use_cuda"
      ],
      "execution_count": null,
      "outputs": [
        {
          "output_type": "stream",
          "text": [
            "usage: ipykernel_launcher.py [-h] [--env ENV] [--use_cuda]\n",
            "ipykernel_launcher.py: error: unrecognized arguments: -f /root/.local/share/jupyter/runtime/kernel-5b741449-9f48-43e3-ae50-b46df27a75ea.json\n"
          ],
          "name": "stderr"
        },
        {
          "output_type": "error",
          "ename": "SystemExit",
          "evalue": "ignored",
          "traceback": [
            "An exception has occurred, use %tb to see the full traceback.\n",
            "\u001b[0;31mSystemExit\u001b[0m\u001b[0;31m:\u001b[0m 2\n"
          ]
        },
        {
          "output_type": "stream",
          "text": [
            "/usr/local/lib/python3.7/dist-packages/IPython/core/interactiveshell.py:2890: UserWarning: To exit: use 'exit', 'quit', or Ctrl-D.\n",
            "  warn(\"To exit: use 'exit', 'quit', or Ctrl-D.\", stacklevel=1)\n"
          ],
          "name": "stderr"
        }
      ]
    }
  ]
}